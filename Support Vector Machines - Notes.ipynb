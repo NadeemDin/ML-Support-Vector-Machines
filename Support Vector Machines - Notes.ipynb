{
 "cells": [
  {
   "cell_type": "code",
   "execution_count": 1,
   "id": "1e01dc56",
   "metadata": {},
   "outputs": [],
   "source": [
    "#Complex Algo\n",
    "#READING: ISLR chapter 9/ SVM for classification."
   ]
  },
  {
   "cell_type": "code",
   "execution_count": 2,
   "id": "ce6e9dd3",
   "metadata": {},
   "outputs": [],
   "source": [
    "#Hyper planes & margins.\n",
    "#In N dimensional space - a hyperplane is a flat affline subscpae of hyperplane dimension N-1.\n",
    "\n",
    "#1-D Hyperplane is a single point\n",
    "#2-D Hyperplane is a line \n",
    "#3-D Hyperplane is a flat plane.\n",
    "\n",
    "#use of hyperplanes to create separation between classes/new points will fall on one side of serparating hyperplane.\n",
    "#.. then use to assign class.\n",
    "\n",
    "#maximal margin classifier is like the space between the seperating hyperplane and the first instance of each class. \n",
    "#maximises the margins between classes\n",
    "\n",
    "#if classes are not so distinguishable and say a class falls on the other sied of the separator then we introduce something..\n",
    "#... called the bias variance trade off/ increase bias - reduce variance etc etc.\n",
    "\n",
    "#allowing bias variance trade off to perform some level of mis classification, some points will fall into the margin.\n",
    "#distance between threshold and observation is a soft margin.\n",
    "#soft margin allows for misclassification inside margin. - allows intro of more bias into model to reduce variance. \n",
    "\n",
    "#when introducing a soft margin into model, results in many threshold splits.\n",
    "\n",
    "#use cross validation to figure out optimal size of margins.\n",
    "\n",
    "#support vector classifier ( soft margins ) - allow for mis classification by increasing bias to reduce variance"
   ]
  },
  {
   "cell_type": "code",
   "execution_count": 3,
   "id": "a4b473fa",
   "metadata": {},
   "outputs": [],
   "source": [
    "#hyperplane is like a line you can draw through the entire plotted dataset to seperate each class (male or female etc)"
   ]
  },
  {
   "cell_type": "code",
   "execution_count": 4,
   "id": "85f25df2",
   "metadata": {},
   "outputs": [],
   "source": [
    "#SUPPORT VECTOR MACHINES: solve the issue of not being able to draw a hyperplane through a dataset, as data is not\n",
    "#... grouped in such a way that it can easily be 'cut' 'split' by a hyperplane."
   ]
  },
  {
   "cell_type": "code",
   "execution_count": null,
   "id": "9780b7fc",
   "metadata": {},
   "outputs": [],
   "source": []
  }
 ],
 "metadata": {
  "kernelspec": {
   "display_name": "Python 3 (ipykernel)",
   "language": "python",
   "name": "python3"
  },
  "language_info": {
   "codemirror_mode": {
    "name": "ipython",
    "version": 3
   },
   "file_extension": ".py",
   "mimetype": "text/x-python",
   "name": "python",
   "nbconvert_exporter": "python",
   "pygments_lexer": "ipython3",
   "version": "3.9.13"
  }
 },
 "nbformat": 4,
 "nbformat_minor": 5
}
